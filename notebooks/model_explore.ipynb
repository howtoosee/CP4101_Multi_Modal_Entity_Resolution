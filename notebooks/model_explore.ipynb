{
 "cells": [
  {
   "cell_type": "code",
   "execution_count": null,
   "outputs": [],
   "source": [
    "import json\n",
    "import os\n",
    "import torch\n",
    "from fiftyone import zoo as foz\n",
    "from matplotlib import pyplot as plt"
   ],
   "metadata": {
    "collapsed": false
   }
  },
  {
   "cell_type": "code",
   "execution_count": null,
   "outputs": [],
   "source": [
    "COCO_17_DATA_DIR = os.path.abspath(\n",
    "    \"/Users/xihaochen/Documents/National University of Singapore/Modules/2223 Sem 2/CP4101 B. Comp. Dissertation/Project/coco-org/coco2017\")\n",
    "json_info_str = foz.load_zoo_dataset_info(\"coco-2017\", dataset_dir=COCO_17_DATA_DIR).to_str(pretty_print=False)\n",
    "info_dict = json.loads(json_info_str)\n",
    "all_classes = info_dict[\"classes\"]\n",
    "target_classes = list(filter(lambda s: not s.isnumeric(), all_classes))\n",
    "target_classes2 = [s for s in target_classes if s != \"person\"]\n",
    "\n",
    "len(all_classes), len(target_classes), len(target_classes2)"
   ],
   "metadata": {
    "collapsed": false
   }
  },
  {
   "cell_type": "code",
   "execution_count": null,
   "outputs": [],
   "source": [
    "epoch_40_results = torch.load(\n",
    "    \"/Users/xihaochen/Documents/National University of Singapore/Modules/2223 Sem 2/CP4101 B. Comp. Dissertation/Project/main-project/checkpoints/coco2017*-epoch_40.pt\",\n",
    "    map_location=\"cpu\")\n",
    "epoch_40_results.keys()"
   ],
   "metadata": {
    "collapsed": false
   }
  },
  {
   "cell_type": "code",
   "execution_count": null,
   "outputs": [],
   "source": [
    "len(epoch_40_results[\"map_5_image\"])"
   ],
   "metadata": {
    "collapsed": false
   }
  },
  {
   "cell_type": "code",
   "execution_count": null,
   "outputs": [],
   "source": [
    "plt.plot"
   ],
   "metadata": {
    "collapsed": false
   }
  }
 ],
 "metadata": {
  "kernelspec": {
   "name": "python3",
   "language": "python",
   "display_name": "Python 3 (ipykernel)"
  },
  "language_info": {
   "codemirror_mode": {
    "name": "ipython",
    "version": 2
   },
   "file_extension": ".py",
   "mimetype": "text/x-python",
   "name": "python",
   "nbconvert_exporter": "python",
   "pygments_lexer": "ipython2",
   "version": "2.7.6"
  }
 },
 "nbformat": 4,
 "nbformat_minor": 0
}
