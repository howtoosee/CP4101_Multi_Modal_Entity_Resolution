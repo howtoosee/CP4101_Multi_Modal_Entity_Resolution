{
 "cells": [
  {
   "cell_type": "code",
   "execution_count": null,
   "metadata": {
    "collapsed": true
   },
   "outputs": [],
   "source": [
    "import os\n",
    "from fiftyone import zoo as foz\n",
    "import json\n",
    "import pandas as pd\n",
    "import itertools\n",
    "import torch\n",
    "from collections import Counter\n",
    "from matplotlib import pyplot as plt"
   ]
  },
  {
   "cell_type": "code",
   "execution_count": null,
   "outputs": [],
   "source": [
    "COCO_17_DATA_DIR = os.path.abspath(\n",
    "    \"/Users/xihaochen/Documents/National University of Singapore/Modules/2223 Sem 2/CP4101 B. Comp. Dissertation/Project/coco-org/coco2017\")\n",
    "COCO_17_PLOT_DIR = os.path.abspath(\n",
    "    \"/Users/xihaochen/Documents/National University of Singapore/Modules/2223 Sem 2/CP4101 B. Comp. Dissertation/Project/coco-org/notebooks/plots\")\n",
    "\n",
    "PLOT_DIR = os.path.abspath(\"/Users/xihaochen/Documents/National University of Singapore/Modules/2223 Sem 2/CP4101 B. Comp. Dissertation/Project/main-project/notebooks/plots\")"
   ],
   "metadata": {
    "collapsed": false
   }
  },
  {
   "cell_type": "code",
   "execution_count": null,
   "outputs": [],
   "source": [
    "json_info_str = foz.load_zoo_dataset_info(\"coco-2017\", dataset_dir=COCO_17_DATA_DIR).to_str(pretty_print=False)\n",
    "info_dict = json.loads(json_info_str)\n",
    "all_classes = info_dict[\"classes\"]\n",
    "target_classes = list(filter(lambda s: not s.isnumeric(), all_classes))\n",
    "\n",
    "print(len(all_classes), len(target_classes))"
   ],
   "metadata": {
    "collapsed": false
   }
  },
  {
   "cell_type": "code",
   "execution_count": null,
   "outputs": [],
   "source": [
    "df = pd.read_csv(os.path.join(COCO_17_DATA_DIR, \"coco2017.csv\"))\n",
    "df[\"labels\"] = df[\"labels\"].apply(eval)\n",
    "labels = df[\"labels\"].tolist()\n",
    "c = Counter(itertools.chain.from_iterable(labels))"
   ],
   "metadata": {
    "collapsed": false
   }
  },
  {
   "cell_type": "code",
   "execution_count": null,
   "outputs": [],
   "source": [
    "dfc = pd.DataFrame.from_dict(c, orient=\"index\", columns=[\"count\"])\n",
    "dfc.sort_values(by=\"count\", inplace=True, ascending=False)\n",
    "dfc.head()"
   ],
   "metadata": {
    "collapsed": false
   }
  },
  {
   "cell_type": "code",
   "execution_count": null,
   "outputs": [],
   "source": [
    "ax = dfc[:20][\"count\"].plot(kind=\"bar\", figsize=(10, 6), legend=False, width=0.8, color=\"tab:blue\")\n",
    "plt.xlabel(\"Concept (top 20)\")\n",
    "plt.ylabel(\"Frequency\")\n",
    "plt.xticks(rotation=45, ha=\"right\")\n",
    "plt.grid(alpha=0.5, axis=\"y\")\n",
    "plt.title(\"Coco-2017: Distribution of top 20 concepts\")\n",
    "plt.savefig(os.path.join(COCO_17_PLOT_DIR, \"coco2017_top20_concepts.png\"), dpi=300, bbox_inches='tight')\n",
    "plt.show()"
   ],
   "metadata": {
    "collapsed": false
   }
  },
  {
   "cell_type": "code",
   "execution_count": null,
   "outputs": [],
   "source": [
    "checkpoint = torch.load(\"/Users/xihaochen/Documents/National University of Singapore/Modules/2223 Sem 2/CP4101 B. Comp. Dissertation/Project/main-project/checkpoints/coco2017-beit_clip-epoch_5.pt\", map_location=\"cpu\")\n",
    "checkpoint.keys()"
   ],
   "metadata": {
    "collapsed": false
   }
  },
  {
   "cell_type": "code",
   "execution_count": null,
   "outputs": [],
   "source": [
    "i2i_reports = checkpoint[\"report_i2i\"][-1]\n",
    "dfc[\"i2i_precision\"] = [None for _ in range(len(dfc))]\n",
    "for k, v in i2i_reports.items():\n",
    "    dfc.loc[k, \"i2i_precision\"] = v[\"precision\"]\n",
    "\n",
    "dfc[\"t2t_precision\"] = [None for _ in range(len(dfc))]\n",
    "for k, v in checkpoint[\"report_t2t\"][-1].items():\n",
    "    dfc.loc[k, \"t2t_precision\"] = v[\"precision\"]\n",
    "dfc.sort_values(by=\"count\", inplace=True, ascending=False)\n",
    "dfc.head()"
   ],
   "metadata": {
    "collapsed": false
   }
  },
  {
   "cell_type": "code",
   "execution_count": null,
   "outputs": [],
   "source": [
    "top_20 = dfc[:20]\n",
    "fig, ax1 = plt.subplots(figsize=(10, 6))\n",
    "ax2 = ax1.twinx()\n",
    "ax1.bar(\"index\", \"count\", data=top_20.reset_index(), color=\"tab:blue\", label=\"Frequency\")\n",
    "ax2.plot(top_20[\"i2i_precision\"], color=\"tab:orange\", label=\"I2I AP\", marker=\"+\")\n",
    "ax2.plot(top_20[\"t2t_precision\"], color=\"tab:green\", label=\"T2T AP\", marker=\".\")\n",
    "\n",
    "ax1.set_xlabel(\"Concept (top 20)\")\n",
    "ax1.set_ylabel(\"Frequency\")\n",
    "ax1.set_xticklabels(top_20.index, rotation=45, ha=\"right\")\n",
    "\n",
    "ax2.set_ylabel(\"Precision\")\n",
    "ax2.grid(alpha=0.5, axis=\"y\")\n",
    "\n",
    "plt.legend()\n",
    "plt.title(\"TransforMMER (BEiT + CLIP) AP of top 20 most frequent concepts of Coco-2017\")\n",
    "plt.savefig(os.path.join(PLOT_DIR, \"beit_clip_full_top20_concepts.png\"), dpi=300, bbox_inches='tight')\n",
    "plt.show()"
   ],
   "metadata": {
    "collapsed": false
   }
  },
  {
   "cell_type": "code",
   "execution_count": null,
   "outputs": [],
   "source": [
    "checkpoint = torch.load(\"/Users/xihaochen/Documents/National University of Singapore/Modules/2223 Sem 2/CP4101 B. Comp. Dissertation/Project/main-project/checkpoints/coco2017-augmented/coco2017-clip_clip-epoch_15.pt\", map_location=\"cpu\")\n",
    "len(checkpoint[\"topics\"])"
   ],
   "metadata": {
    "collapsed": false
   }
  },
  {
   "cell_type": "code",
   "execution_count": null,
   "outputs": [],
   "source": [
    "checkpoint[\"report_i2i\"][-1].keys()"
   ],
   "metadata": {
    "collapsed": false
   }
  },
  {
   "cell_type": "code",
   "execution_count": null,
   "outputs": [],
   "source": [
    "i2i_reports = checkpoint[\"report_i2i\"][-1]\n",
    "dfc[\"i2i_precision\"] = [None for _ in range(len(dfc))]\n",
    "for k, v in i2i_reports.items():\n",
    "    dfc.loc[k, \"i2i_precision\"] = v[\"precision\"]\n",
    "\n",
    "dfc[\"t2t_precision\"] = [None for _ in range(len(dfc))]\n",
    "for k, v in checkpoint[\"report_t2t\"][-1].items():\n",
    "    dfc.loc[k, \"t2t_precision\"] = v[\"precision\"]\n",
    "dfc.sort_values(by=\"count\", inplace=True, ascending=False)\n",
    "dfc.head()"
   ],
   "metadata": {
    "collapsed": false
   }
  },
  {
   "cell_type": "code",
   "execution_count": null,
   "outputs": [],
   "source": [
    "top_20 = dfc[:20]\n",
    "fig, ax1 = plt.subplots(figsize=(10, 6))\n",
    "ax2 = ax1.twinx()\n",
    "ax1.bar(\"index\", \"count\", data=top_20.reset_index(), color=\"tab:blue\", label=\"Frequency\")\n",
    "ax2.plot(top_20[\"i2i_precision\"], color=\"tab:orange\", label=\"I2I AP\", marker=\"+\")\n",
    "ax2.plot(top_20[\"t2t_precision\"], color=\"tab:green\", label=\"T2T AP\", marker=\".\")\n",
    "\n",
    "ax1.set_xlabel(\"Concept (top 20)\")\n",
    "ax1.set_ylabel(\"Frequency\")\n",
    "ax1.set_xticklabels(top_20.index, rotation=45, ha=\"right\")\n",
    "\n",
    "ax2.set_ylabel(\"Precision\")\n",
    "ax2.grid(alpha=0.5, axis=\"y\")\n",
    "\n",
    "plt.legend()\n",
    "plt.title(\"TransforMMER (BEiT + CLIP) AP of top 20 most frequent concepts of Coco-2017-A\")\n",
    "# plt.savefig(os.path.join(PLOT_DIR, \"beit_clip_aug_top20_concepts.png\"), dpi=300, bbox_inches='tight')\n",
    "plt.show()"
   ],
   "metadata": {
    "collapsed": false
   }
  },
  {
   "cell_type": "code",
   "execution_count": null,
   "outputs": [],
   "source": [],
   "metadata": {
    "collapsed": false
   }
  }
 ],
 "metadata": {
  "kernelspec": {
   "display_name": "Python 3",
   "language": "python",
   "name": "python3"
  },
  "language_info": {
   "codemirror_mode": {
    "name": "ipython",
    "version": 2
   },
   "file_extension": ".py",
   "mimetype": "text/x-python",
   "name": "python",
   "nbconvert_exporter": "python",
   "pygments_lexer": "ipython2",
   "version": "2.7.6"
  }
 },
 "nbformat": 4,
 "nbformat_minor": 0
}
